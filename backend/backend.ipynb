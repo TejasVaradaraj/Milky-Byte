{
 "cells": [
  {
   "cell_type": "code",
   "execution_count": null,
   "id": "467f067d-60da-4646-8d12-c0cad533a7c9",
   "metadata": {},
   "outputs": [],
   "source": [
    "from fastapi import FastAPI, Query\n",
    "from fastapi.middleware.cors import CORSMiddleware\n",
    "import pandas as pd\n",
    "from filters import load_data, apply_query, apply_facets, Criteria, safe_top\n",
    "\n",
    "app = FastAPI(title=\"Toyota Finance API\", version=\"1.0\")\n",
    "\n",
    "# Allow requests from your React dev server\n",
    "origins = [\n",
    "    \"http://127.0.0.1:8000\",  # or 3000, depending on React port\n",
    "    \"http://127.0.0.1:8000\",\n",
    "]\n",
    "app.add_middleware(\n",
    "    CORSMiddleware,\n",
    "    allow_origins=origins,\n",
    "    allow_credentials=True,\n",
    "    allow_methods=[\"*\"],\n",
    "    allow_headers=[\"*\"],\n",
    ")\n",
    "\n",
    "# Load data once at startup\n",
    "df_base = load_data(\"cars_priced.csv\")\n",
    "\n",
    "@app.get(\"/\")\n",
    "def root():\n",
    "    return {\"message\": \"Toyota Finance API running\"}\n",
    "\n",
    "@app.get(\"/filter\")\n",
    "def filter_cars(\n",
    "    q: str | None = Query(None, description=\"Search query\"),\n",
    "    mpg: str = Query(\"any\", description=\"low/med/high\"),\n",
    "    price_min: int = Query(4000),\n",
    "    price_max: int = Query(60000),\n",
    "    hp_min: int = Query(80),\n",
    "    hp_max: int = Query(500),\n",
    "    mil_min: int = Query(0),\n",
    "    mil_max: int = Query(200000),\n",
    "):\n",
    "    crit = Criteria(\n",
    "        query=q,\n",
    "        mpg_bucket=mpg,\n",
    "        price_range=(price_min, price_max),\n",
    "        hp_range=(hp_min, hp_max),\n",
    "        mileage_range=(mil_min, mil_max)\n",
    "    )\n",
    "    df = apply_facets(df_base, crit)\n",
    "    results = safe_top(df, 25).to_dict(orient=\"records\")\n",
    "    return {\"count\": len(df), \"results\": results}\n",
    "\n",
    "@app.get(\"/car/{model_name}\")\n",
    "def car_details(model_name: str):\n",
    "    df = df_base[df_base[\"model\"].str.contains(model_name, case=False, na=False)]\n",
    "    return df.to_dict(orient=\"records\")\n"
   ]
  }
 ],
 "metadata": {
  "kernelspec": {
   "display_name": "Python 3 (ipykernel)",
   "language": "python",
   "name": "python3"
  },
  "language_info": {
   "codemirror_mode": {
    "name": "ipython",
    "version": 3
   },
   "file_extension": ".py",
   "mimetype": "text/x-python",
   "name": "python",
   "nbconvert_exporter": "python",
   "pygments_lexer": "ipython3",
   "version": "3.13.7"
  }
 },
 "nbformat": 4,
 "nbformat_minor": 5
}
